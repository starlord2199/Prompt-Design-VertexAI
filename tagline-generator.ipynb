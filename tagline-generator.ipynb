{
 "cells": [
  {
   "cell_type": "code",
   "execution_count": 2,
   "id": "263ad9f2-2a5a-4c4e-8426-29ca4843029d",
   "metadata": {
    "tags": []
   },
   "outputs": [
    {
     "name": "stdout",
     "output_type": "stream",
     "text": [
      "Conquer Any Trail: Own Your Nature.\n"
     ]
    }
   ],
   "source": [
    "from google import genai\n",
    "from google.genai import types\n",
    "import base64\n",
    "\n",
    "def generate():\n",
    "  client = genai.Client(\n",
    "      vertexai=True,\n",
    "      project=\"qwiklabs-gcp-02-b03493f6e2fd\",\n",
    "      location=\"us-west4\",\n",
    "  )\n",
    "\n",
    "  msg1_text1 = types.Part.from_text(text=\"\"\"Create a catchy tagline for an outdoor product based on the input parameters. Make sure the tagline includes the keyword if provided.\n",
    "\n",
    "### Example 1\n",
    "Input:\n",
    "Product: Durable backpack  \n",
    "Target audience: Hikers  \n",
    "Emotional tone: Prepared  \n",
    "Style: Minimalist  \n",
    "\n",
    "Output:\n",
    "Built for the Journey: Your Adventure Essentials.\n",
    "\n",
    "---\n",
    "\n",
    "### Example 2\n",
    "Input:\n",
    "Product: Lightweight tent  \n",
    "Target audience: Young campers  \n",
    "Emotional tone: Empowered  \n",
    "Style: Playful  \n",
    "\n",
    "Output:\n",
    "Pitch It. Pack Light. Sleep Tight.\n",
    "\n",
    "---\n",
    "\n",
    "### Now your turn:\n",
    "Input:\n",
    "Product: All-weather hiking boots  \n",
    "Target audience: Teen adventurers  \n",
    "Emotional tone: Confident  \n",
    "Style: Bold\n",
    "Keyword: nature\n",
    "\"\"\")\n",
    "  si_text1 = \"\"\"Cymbal Direct is partnering with an outdoor gear retailer. They're launching a new line of products designed to encourage young people to explore the outdoors. Help them create catchy taglines for this product line. Include the keyword 'nature' in the tagline if it is mentioned in the input.\"\"\"\n",
    "\n",
    "  model = \"gemini-2.0-flash-001\"\n",
    "  contents = [\n",
    "    types.Content(\n",
    "      role=\"user\",\n",
    "      parts=[\n",
    "        msg1_text1\n",
    "      ]\n",
    "    ),\n",
    "  ]\n",
    "\n",
    "  generate_content_config = types.GenerateContentConfig(\n",
    "    temperature = 1,\n",
    "    top_p = 1,\n",
    "    max_output_tokens = 8192,\n",
    "    safety_settings = [types.SafetySetting(\n",
    "      category=\"HARM_CATEGORY_HATE_SPEECH\",\n",
    "      threshold=\"OFF\"\n",
    "    ),types.SafetySetting(\n",
    "      category=\"HARM_CATEGORY_DANGEROUS_CONTENT\",\n",
    "      threshold=\"OFF\"\n",
    "    ),types.SafetySetting(\n",
    "      category=\"HARM_CATEGORY_SEXUALLY_EXPLICIT\",\n",
    "      threshold=\"OFF\"\n",
    "    ),types.SafetySetting(\n",
    "      category=\"HARM_CATEGORY_HARASSMENT\",\n",
    "      threshold=\"OFF\"\n",
    "    )],\n",
    "    system_instruction=[types.Part.from_text(text=si_text1)],\n",
    "  )\n",
    "\n",
    "  for chunk in client.models.generate_content_stream(\n",
    "    model = model,\n",
    "    contents = contents,\n",
    "    config = generate_content_config,\n",
    "    ):\n",
    "    print(chunk.text, end=\"\")\n",
    "\n",
    "generate()"
   ]
  },
  {
   "cell_type": "code",
   "execution_count": null,
   "id": "2d56396b-5253-48bc-8cb5-0cd4c98c5bb7",
   "metadata": {},
   "outputs": [],
   "source": []
  }
 ],
 "metadata": {
  "environment": {
   "kernel": "conda-base-py",
   "name": "workbench-notebooks.m130",
   "type": "gcloud",
   "uri": "us-docker.pkg.dev/deeplearning-platform-release/gcr.io/workbench-notebooks:m130"
  },
  "kernelspec": {
   "display_name": "Python 3 (ipykernel) (Local)",
   "language": "python",
   "name": "conda-base-py"
  },
  "language_info": {
   "codemirror_mode": {
    "name": "ipython",
    "version": 3
   },
   "file_extension": ".py",
   "mimetype": "text/x-python",
   "name": "python",
   "nbconvert_exporter": "python",
   "pygments_lexer": "ipython3",
   "version": "3.10.18"
  }
 },
 "nbformat": 4,
 "nbformat_minor": 5
}
